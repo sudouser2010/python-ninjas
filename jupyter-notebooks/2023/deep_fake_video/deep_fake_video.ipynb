{
 "cells": [
  {
   "cell_type": "markdown",
   "id": "a7875d19-29cc-4d34-bd1c-08a35787a099",
   "metadata": {
    "jp-MarkdownHeadingCollapsed": true,
    "tags": []
   },
   "source": [
    "# We'll Generate a Deep Fake Video. \n",
    "##### You'll need:\n",
    "    ##### Source PNG file: This image should contain the face to be animated.\n",
    "    ##### Driver MPEG video file: This driver video will be used to animate the face.\n",
    "    ##### Deep Fake Generator Config"
   ]
  },
  {
   "cell_type": "markdown",
   "id": "64e0183b-ce1e-48ea-8349-ed2a0bb31f05",
   "metadata": {
    "tags": []
   },
   "source": [
    "# Install Dependencies"
   ]
  },
  {
   "cell_type": "code",
   "execution_count": 15,
   "id": "dbe24589-a151-4d4e-a4ec-36dbc24fea49",
   "metadata": {
    "tags": []
   },
   "outputs": [
    {
     "name": "stdout",
     "output_type": "stream",
     "text": [
      "E: Could not open lock file /var/lib/dpkg/lock-frontend - open (13: Permission denied)\n",
      "E: Unable to acquire the dpkg frontend lock (/var/lib/dpkg/lock-frontend), are you root?\n",
      "\u001b[1;31mE: \u001b[0mCould not open lock file /var/lib/dpkg/lock-frontend - open (13: Permission denied)\u001b[0m\n",
      "\u001b[1;31mE: \u001b[0mUnable to acquire the dpkg frontend lock (/var/lib/dpkg/lock-frontend), are you root?\u001b[0m\n",
      "Requirement already satisfied: fastscript in /home/user/miniconda3/envs/py37/lib/python3.7/site-packages (1.0.0)\n",
      "Requirement already satisfied: packaging in /home/user/miniconda3/envs/py37/lib/python3.7/site-packages (from fastscript) (23.1)\n",
      "Requirement already satisfied: pip in /home/user/miniconda3/envs/py37/lib/python3.7/site-packages (from fastscript) (22.3.1)\n",
      "Requirement already satisfied: gdown in /home/user/miniconda3/envs/py37/lib/python3.7/site-packages (4.7.1)\n",
      "Requirement already satisfied: tqdm in /home/user/miniconda3/envs/py37/lib/python3.7/site-packages (from gdown) (4.65.0)\n",
      "Requirement already satisfied: requests[socks] in /home/user/miniconda3/envs/py37/lib/python3.7/site-packages (from gdown) (2.29.0)\n",
      "Requirement already satisfied: filelock in /home/user/miniconda3/envs/py37/lib/python3.7/site-packages (from gdown) (3.12.0)\n",
      "Requirement already satisfied: six in /home/user/miniconda3/envs/py37/lib/python3.7/site-packages (from gdown) (1.16.0)\n",
      "Requirement already satisfied: beautifulsoup4 in /home/user/miniconda3/envs/py37/lib/python3.7/site-packages (from gdown) (4.12.2)\n",
      "Requirement already satisfied: soupsieve>1.2 in /home/user/miniconda3/envs/py37/lib/python3.7/site-packages (from beautifulsoup4->gdown) (2.4.1)\n",
      "Requirement already satisfied: idna<4,>=2.5 in /home/user/miniconda3/envs/py37/lib/python3.7/site-packages (from requests[socks]->gdown) (3.4)\n",
      "Requirement already satisfied: charset-normalizer<4,>=2 in /home/user/miniconda3/envs/py37/lib/python3.7/site-packages (from requests[socks]->gdown) (3.1.0)\n",
      "Requirement already satisfied: urllib3<1.27,>=1.21.1 in /home/user/miniconda3/envs/py37/lib/python3.7/site-packages (from requests[socks]->gdown) (1.26.15)\n",
      "Requirement already satisfied: certifi>=2017.4.17 in /home/user/miniconda3/envs/py37/lib/python3.7/site-packages (from requests[socks]->gdown) (2022.12.7)\n",
      "Requirement already satisfied: PySocks!=1.5.7,>=1.5.6 in /home/user/miniconda3/envs/py37/lib/python3.7/site-packages (from requests[socks]->gdown) (1.7.1)\n"
     ]
    }
   ],
   "source": [
    "# these dependencies are neededfor deep-animate\n",
    "!apt-get install libfreetype6-dev\n",
    "!apt install ffmpeg\n",
    "!pip install fastscript\n",
    "\n",
    "# we'll use gdown to download model weights\n",
    "!pip install gdown"
   ]
  },
  {
   "cell_type": "markdown",
   "id": "87cbd15b-eb0f-45f4-b6b8-e7791309e6e0",
   "metadata": {
    "tags": []
   },
   "source": [
    "# Install Deep Video Fake Library"
   ]
  },
  {
   "cell_type": "code",
   "execution_count": 1,
   "id": "8d09e38f-3118-4993-89c3-83210b7828ef",
   "metadata": {
    "tags": []
   },
   "outputs": [
    {
     "name": "stdout",
     "output_type": "stream",
     "text": [
      "Requirement already satisfied: deep-animator in /home/user/miniconda3/envs/py37/lib/python3.7/site-packages (0.1.1)\n",
      "Requirement already satisfied: torch>=1.3.0 in /home/user/miniconda3/envs/py37/lib/python3.7/site-packages (from deep-animator) (1.8.1)\n",
      "Requirement already satisfied: matplotlib==2.2.2 in /home/user/miniconda3/envs/py37/lib/python3.7/site-packages (from deep-animator) (2.2.2)\n",
      "Requirement already satisfied: ffmpeg in /home/user/miniconda3/envs/py37/lib/python3.7/site-packages (from deep-animator) (1.4)\n",
      "Requirement already satisfied: numpy==1.15.0 in /home/user/miniconda3/envs/py37/lib/python3.7/site-packages (from deep-animator) (1.15.0)\n",
      "Requirement already satisfied: tqdm in /home/user/miniconda3/envs/py37/lib/python3.7/site-packages (from deep-animator) (4.65.0)\n",
      "Requirement already satisfied: scikit-learn==0.19.2 in /home/user/miniconda3/envs/py37/lib/python3.7/site-packages (from deep-animator) (0.19.2)\n",
      "Requirement already satisfied: scikit-image==0.14.0 in /home/user/miniconda3/envs/py37/lib/python3.7/site-packages (from deep-animator) (0.14.0)\n",
      "Requirement already satisfied: scipy==1.1.0 in /home/user/miniconda3/envs/py37/lib/python3.7/site-packages (from deep-animator) (1.1.0)\n",
      "Requirement already satisfied: imageio==2.3.0 in /home/user/miniconda3/envs/py37/lib/python3.7/site-packages (from deep-animator) (2.3.0)\n",
      "Requirement already satisfied: fire in /home/user/miniconda3/envs/py37/lib/python3.7/site-packages (from deep-animator) (0.5.0)\n",
      "Requirement already satisfied: torchvision>=0.2.1 in /home/user/miniconda3/envs/py37/lib/python3.7/site-packages (from deep-animator) (0.9.1)\n",
      "Requirement already satisfied: Pillow==5.2.0 in /home/user/miniconda3/envs/py37/lib/python3.7/site-packages (from deep-animator) (5.2.0)\n",
      "Requirement already satisfied: pandas==0.23.4 in /home/user/miniconda3/envs/py37/lib/python3.7/site-packages (from deep-animator) (0.23.4)\n",
      "Requirement already satisfied: cycler>=0.10 in /home/user/miniconda3/envs/py37/lib/python3.7/site-packages (from matplotlib==2.2.2->deep-animator) (0.11.0)\n",
      "Requirement already satisfied: kiwisolver>=1.0.1 in /home/user/miniconda3/envs/py37/lib/python3.7/site-packages (from matplotlib==2.2.2->deep-animator) (1.4.4)\n",
      "Requirement already satisfied: python-dateutil>=2.1 in /home/user/miniconda3/envs/py37/lib/python3.7/site-packages (from matplotlib==2.2.2->deep-animator) (2.8.2)\n",
      "Requirement already satisfied: six>=1.10 in /home/user/miniconda3/envs/py37/lib/python3.7/site-packages (from matplotlib==2.2.2->deep-animator) (1.16.0)\n",
      "Requirement already satisfied: pyparsing!=2.0.4,!=2.1.2,!=2.1.6,>=2.0.1 in /home/user/miniconda3/envs/py37/lib/python3.7/site-packages (from matplotlib==2.2.2->deep-animator) (3.0.9)\n",
      "Requirement already satisfied: pytz in /home/user/miniconda3/envs/py37/lib/python3.7/site-packages (from matplotlib==2.2.2->deep-animator) (2023.3)\n",
      "Requirement already satisfied: cloudpickle>=0.2.1 in /home/user/miniconda3/envs/py37/lib/python3.7/site-packages (from scikit-image==0.14.0->deep-animator) (2.2.1)\n",
      "Requirement already satisfied: PyWavelets>=0.4.0 in /home/user/miniconda3/envs/py37/lib/python3.7/site-packages (from scikit-image==0.14.0->deep-animator) (1.1.1)\n",
      "Requirement already satisfied: networkx>=1.8 in /home/user/miniconda3/envs/py37/lib/python3.7/site-packages (from scikit-image==0.14.0->deep-animator) (2.6.3)\n",
      "Requirement already satisfied: dask[array]>=0.9.0 in /home/user/miniconda3/envs/py37/lib/python3.7/site-packages (from scikit-image==0.14.0->deep-animator) (2.30.0)\n",
      "Requirement already satisfied: typing-extensions in /home/user/miniconda3/envs/py37/lib/python3.7/site-packages (from torch>=1.3.0->deep-animator) (4.5.0)\n",
      "Requirement already satisfied: termcolor in /home/user/miniconda3/envs/py37/lib/python3.7/site-packages (from fire->deep-animator) (2.3.0)\n",
      "Requirement already satisfied: pyyaml in /home/user/miniconda3/envs/py37/lib/python3.7/site-packages (from dask[array]>=0.9.0->scikit-image==0.14.0->deep-animator) (6.0)\n",
      "Requirement already satisfied: toolz>=0.8.2 in /home/user/miniconda3/envs/py37/lib/python3.7/site-packages (from dask[array]>=0.9.0->scikit-image==0.14.0->deep-animator) (0.12.0)\n"
     ]
    }
   ],
   "source": [
    "!pip install deep-animator"
   ]
  },
  {
   "cell_type": "markdown",
   "id": "4b470f76-ae2d-4f39-ad76-2782c6716641",
   "metadata": {
    "tags": []
   },
   "source": [
    "# Download Model Weights"
   ]
  },
  {
   "cell_type": "code",
   "execution_count": null,
   "id": "1707b74a-bd6b-47cb-92d7-1b81e3483695",
   "metadata": {
    "tags": []
   },
   "outputs": [],
   "source": [
    "# download from Pubic Google Doc\n",
    "!gdown https://drive.google.com/uc?id=1zqa0la8FKchq62gRJMMvDGVhinf3nBEx&export=download\n",
    "\n",
    "# rename file for convenience\n",
    "!mv deep_animator_model.pth.tar model_weights.tar"
   ]
  },
  {
   "cell_type": "markdown",
   "id": "77c4fe48-8a71-4257-9846-3679e99e9270",
   "metadata": {
    "tags": []
   },
   "source": [
    "# Generate Deep Fake!\n",
    "##### (syntax) `deep_animate <path_to_the_source_image> <path_to_the_driving_video> <path_to_yaml_conf> <path_to_model_weights>`"
   ]
  },
  {
   "cell_type": "code",
   "execution_count": 16,
   "id": "146f0a74-b883-47b7-8b7b-9c20e982bbf2",
   "metadata": {
    "tags": []
   },
   "outputs": [
    {
     "name": "stdout",
     "output_type": "stream",
     "text": [
      "100%|█████████████████████████████████████████| 444/444 [03:17<00:00,  2.24it/s]\n"
     ]
    }
   ],
   "source": [
    "!deep_animate source.png driver.mp4 config.yml model_weights.tar"
   ]
  },
  {
   "cell_type": "markdown",
   "id": "62ffb8bf-8d5e-4b13-b71d-7bb11ac34034",
   "metadata": {
    "tags": []
   },
   "source": [
    "# Post Process Deep Fake\n",
    "#### The generated video is slow. \n",
    "#### we need to speed it up so it's length is the same as the driver video"
   ]
  },
  {
   "cell_type": "code",
   "execution_count": 3,
   "id": "3ad957b7-1352-4616-bda2-bebc8a9e2bde",
   "metadata": {
    "tags": []
   },
   "outputs": [
    {
     "name": "stdout",
     "output_type": "stream",
     "text": [
      "POST PROCESSING DEEP FAKE... 14.8 44.4 0.3333\n"
     ]
    },
    {
     "name": "stderr",
     "output_type": "stream",
     "text": [
      "ffmpeg version 4.3.5-0+deb11u1 Copyright (c) 2000-2022 the FFmpeg developers\n",
      "  built with gcc 10 (Debian 10.2.1-6)\n",
      "  configuration: --prefix=/usr --extra-version=0+deb11u1 --toolchain=hardened --libdir=/usr/lib/x86_64-linux-gnu --incdir=/usr/include/x86_64-linux-gnu --arch=amd64 --enable-gpl --disable-stripping --enable-avresample --disable-filter=resample --enable-gnutls --enable-ladspa --enable-libaom --enable-libass --enable-libbluray --enable-libbs2b --enable-libcaca --enable-libcdio --enable-libcodec2 --enable-libdav1d --enable-libflite --enable-libfontconfig --enable-libfreetype --enable-libfribidi --enable-libgme --enable-libgsm --enable-libjack --enable-libmp3lame --enable-libmysofa --enable-libopenjpeg --enable-libopenmpt --enable-libopus --enable-libpulse --enable-librabbitmq --enable-librsvg --enable-librubberband --enable-libshine --enable-libsnappy --enable-libsoxr --enable-libspeex --enable-libsrt --enable-libssh --enable-libtheora --enable-libtwolame --enable-libvidstab --enable-libvorbis --enable-libvpx --enable-libwavpack --enable-libwebp --enable-libx265 --enable-libxml2 --enable-libxvid --enable-libzmq --enable-libzvbi --enable-lv2 --enable-omx --enable-openal --enable-opencl --enable-opengl --enable-sdl2 --enable-pocketsphinx --enable-libmfx --enable-libdc1394 --enable-libdrm --enable-libiec61883 --enable-chromaprint --enable-frei0r --enable-libx264 --enable-shared\n",
      "  libavutil      56. 51.100 / 56. 51.100\n",
      "  libavcodec     58. 91.100 / 58. 91.100\n",
      "  libavformat    58. 45.100 / 58. 45.100\n",
      "  libavdevice    58. 10.100 / 58. 10.100\n",
      "  libavfilter     7. 85.100 /  7. 85.100\n",
      "  libavresample   4.  0.  0 /  4.  0.  0\n",
      "  libswscale      5.  7.100 /  5.  7.100\n",
      "  libswresample   3.  7.100 /  3.  7.100\n",
      "  libpostproc    55.  7.100 / 55.  7.100\n",
      "Input #0, mov,mp4,m4a,3gp,3g2,mj2, from 'generated_video.mp4':\n",
      "  Metadata:\n",
      "    major_brand     : isom\n",
      "    minor_version   : 512\n",
      "    compatible_brands: isomiso2avc1mp41\n",
      "    encoder         : Lavf58.45.100\n",
      "  Duration: 00:00:44.40, start: 0.000000, bitrate: 47 kb/s\n",
      "    Stream #0:0(und): Video: h264 (High) (avc1 / 0x31637661), yuv420p, 256x256, 46 kb/s, 10 fps, 10 tbr, 10240 tbn, 20 tbc (default)\n",
      "    Metadata:\n",
      "      handler_name    : VideoHandler\n",
      "Stream mapping:\n",
      "  Stream #0:0 -> #0:0 (h264 (native) -> h264 (libx264))\n",
      "Press [q] to stop, [?] for help\n",
      "[libx264 @ 0x55deb36ac600] using cpu capabilities: MMX2 SSE2Fast SSSE3 SSE4.2 AVX FMA3 BMI2 AVX2\n",
      "[libx264 @ 0x55deb36ac600] profile High, level 1.2, 4:2:0, 8-bit\n",
      "[libx264 @ 0x55deb36ac600] 264 - core 160 r3011 cde9a93 - H.264/MPEG-4 AVC codec - Copyleft 2003-2020 - http://www.videolan.org/x264.html - options: cabac=1 ref=3 deblock=1:0:0 analyse=0x3:0x113 me=hex subme=7 psy=1 psy_rd=1.00:0.00 mixed_ref=1 me_range=16 chroma_me=1 trellis=1 8x8dct=1 cqm=0 deadzone=21,11 fast_pskip=1 chroma_qp_offset=-2 threads=8 lookahead_threads=1 sliced_threads=0 nr=0 decimate=1 interlaced=0 bluray_compat=0 constrained_intra=0 bframes=3 b_pyramid=2 b_adapt=1 b_bias=0 direct=1 weightb=1 open_gop=0 weightp=2 keyint=250 keyint_min=10 scenecut=40 intra_refresh=0 rc_lookahead=40 rc=crf mbtree=1 crf=23.0 qcomp=0.60 qpmin=0 qpmax=69 qpstep=4 ip_ratio=1.40 aq=1:1.00\n",
      "Output #0, mp4, to 'generated_video_fast.mp4':\n",
      "  Metadata:\n",
      "    major_brand     : isom\n",
      "    minor_version   : 512\n",
      "    compatible_brands: isomiso2avc1mp41\n",
      "    encoder         : Lavf58.45.100\n",
      "    Stream #0:0(und): Video: h264 (libx264) (avc1 / 0x31637661), yuv420p, 256x256, q=-1--1, 10 fps, 10240 tbn, 10 tbc (default)\n",
      "    Metadata:\n",
      "      handler_name    : VideoHandler\n",
      "      encoder         : Lavc58.91.100 libx264\n",
      "    Side data:\n",
      "      cpb: bitrate max/min/avg: 0/0/0 buffer size: 0 vbv_delay: N/A\n"
     ]
    },
    {
     "name": "stdout",
     "output_type": "stream",
     "text": [
      "DONE: saved as generated_video_fast.mp4\n"
     ]
    },
    {
     "name": "stderr",
     "output_type": "stream",
     "text": [
      "frame=  150 fps=0.0 q=-1.0 Lsize=     156kB time=00:00:14.70 bitrate=  86.9kbits/s dup=0 drop=294 speed=64.5x    \n",
      "video:153kB audio:0kB subtitle:0kB other streams:0kB global headers:0kB muxing overhead: 1.670530%\n",
      "[libx264 @ 0x55deb36ac600] frame I:1     Avg QP:19.57  size:  6561\n",
      "[libx264 @ 0x55deb36ac600] frame P:41    Avg QP:20.04  size:  2352\n",
      "[libx264 @ 0x55deb36ac600] frame B:108   Avg QP:24.54  size:   494\n",
      "[libx264 @ 0x55deb36ac600] consecutive B-frames:  2.7%  2.7%  4.0% 90.7%\n",
      "[libx264 @ 0x55deb36ac600] mb I  I16..4:  0.0% 71.1% 28.9%\n",
      "[libx264 @ 0x55deb36ac600] mb P  I16..4:  0.1%  2.6%  0.5%  P16..4: 37.6% 37.8% 17.2%  0.0%  0.0%    skip: 4.2%\n",
      "[libx264 @ 0x55deb36ac600] mb B  I16..4:  0.0%  0.0%  0.0%  B16..8: 50.5%  9.0%  1.3%  direct: 1.6%  skip:37.5%  L0:42.7% L1:45.9% BI:11.4%\n",
      "[libx264 @ 0x55deb36ac600] 8x8 transform intra:77.6% inter:74.5%\n",
      "[libx264 @ 0x55deb36ac600] coded y,uvDC,uvAC intra: 94.8% 85.9% 31.5% inter: 23.3% 15.6% 0.0%\n",
      "[libx264 @ 0x55deb36ac600] i16 v,h,dc,p: 11% 22%  0% 67%\n",
      "[libx264 @ 0x55deb36ac600] i8 v,h,dc,ddl,ddr,vr,hd,vl,hu: 16% 13%  6%  4% 15% 17% 11%  8% 10%\n",
      "[libx264 @ 0x55deb36ac600] i4 v,h,dc,ddl,ddr,vr,hd,vl,hu: 17% 15%  6%  6% 16% 16% 11%  8%  6%\n",
      "[libx264 @ 0x55deb36ac600] i8c dc,h,v,p: 46% 16% 27% 10%\n",
      "[libx264 @ 0x55deb36ac600] Weighted P-Frames: Y:7.3% UV:0.0%\n",
      "[libx264 @ 0x55deb36ac600] ref P L0: 53.4% 27.0% 14.7%  4.6%  0.2%\n",
      "[libx264 @ 0x55deb36ac600] ref B L0: 93.8%  5.3%  0.8%\n",
      "[libx264 @ 0x55deb36ac600] ref B L1: 97.9%  2.1%\n",
      "[libx264 @ 0x55deb36ac600] kb/s:83.37\n"
     ]
    }
   ],
   "source": [
    "import os\n",
    "import subprocess\n",
    "\n",
    "\n",
    "DRIVER_VIDEO = 'driver.mp4'\n",
    "GENERATED_VIDEO = 'generated_video.mp4'\n",
    "GENERATED_VIDEO_FAST = 'generated_video_fast.mp4'\n",
    "\n",
    "\n",
    "def get_length(filename):\n",
    "    result = subprocess.run([\"ffprobe\", \"-v\", \"error\", \"-show_entries\",\n",
    "                             \"format=duration\", \"-of\",\n",
    "                             \"default=noprint_wrappers=1:nokey=1\", filename],\n",
    "        stdout=subprocess.PIPE,\n",
    "        stderr=subprocess.STDOUT)\n",
    "    return float(result.stdout)\n",
    "\n",
    "def main():\n",
    "    \n",
    "    driver_length = get_length(DRIVER_VIDEO)\n",
    "    deep_fake_length = get_length(GENERATED_VIDEO)\n",
    "    ratio =  round(driver_length / deep_fake_length, 4)\n",
    "    \n",
    "    print('POST PROCESSING DEEP FAKE...', driver_length, deep_fake_length, ratio)\n",
    "    command = f'ffmpeg -i generated_video.mp4 -filter:v \"setpts={ratio}*PTS\" {GENERATED_VIDEO_FAST}'\n",
    "    os.system(command)\n",
    "    print(f'DONE: saved as {GENERATED_VIDEO_FAST}')\n",
    "    \n",
    "main()    "
   ]
  },
  {
   "cell_type": "code",
   "execution_count": null,
   "id": "1ebcfc33-84d8-4fd4-8cca-09f31879d209",
   "metadata": {},
   "outputs": [],
   "source": []
  }
 ],
 "metadata": {
  "kernelspec": {
   "display_name": "Python 3 (ipykernel)",
   "language": "python",
   "name": "python3"
  },
  "language_info": {
   "codemirror_mode": {
    "name": "ipython",
    "version": 3
   },
   "file_extension": ".py",
   "mimetype": "text/x-python",
   "name": "python",
   "nbconvert_exporter": "python",
   "pygments_lexer": "ipython3",
   "version": "3.7.16"
  }
 },
 "nbformat": 4,
 "nbformat_minor": 5
}
