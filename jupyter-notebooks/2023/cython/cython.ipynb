{
 "cells": [
  {
   "attachments": {
    "3fa28119-6828-4388-bd55-35944da7d012.png": {
     "image/png": "[encoded data removed]"
    }
   },
   "cell_type": "markdown",
   "id": "610bb787-c939-4dec-9300-e0bf8263a797",
   "metadata": {},
   "source": [
    "# How Cython Works \n",
    "![image.png](attachment:3fa28119-6828-4388-bd55-35944da7d012.png)"
   ]
  },
  {
   "cell_type": "markdown",
   "id": "868b75f8-4e0e-411f-a8db-1f260723c686",
   "metadata": {},
   "source": [
    "# Install Cython"
   ]
  },
  {
   "cell_type": "code",
   "execution_count": 3,
   "id": "2a4f854d-64ac-4c14-89b9-c63b98271467",
   "metadata": {
    "tags": []
   },
   "outputs": [
    {
     "name": "stdout",
     "output_type": "stream",
     "text": [
      "\u001b[33mWARNING: Implying --no-binary=:all: due to the presence of --build-option / --global-option / --install-option. Consider using --config-settings for more flexibility.\u001b[0m\u001b[33m\n",
      "\u001b[0m\u001b[33mDEPRECATION: --install-option is deprecated because it forces pip to use the 'setup.py install' command which is itself deprecated. pip 23.1 will enforce this behaviour change. A possible replacement is to use --config-settings. Discussion can be found at https://github.com/pypa/pip/issues/11358\u001b[0m\u001b[33m\n",
      "\u001b[0m\u001b[33mDEPRECATION: --no-binary currently disables reading from the cache of locally built wheels. In the future --no-binary will not influence the wheel cache. pip 23.1 will enforce this behaviour change. A possible replacement is to use the --no-cache-dir option. You can use the flag --use-feature=no-binary-enable-wheel-cache to test the upcoming behaviour. Discussion can be found at https://github.com/pypa/pip/issues/11453\u001b[0m\u001b[33m\n",
      "\u001b[0mRequirement already satisfied: Cython in /home/user/mu/lib/python3.9/site-packages (0.29.34)\n"
     ]
    }
   ],
   "source": [
    "! pip install Cython --install-option=\"--no-cython-compile\""
   ]
  },
  {
   "cell_type": "code",
   "execution_count": 15,
   "id": "169ccf19-9a31-4b1b-90eb-76ac69df7bde",
   "metadata": {
    "tags": []
   },
   "outputs": [
    {
     "name": "stdout",
     "output_type": "stream",
     "text": [
      "Compiling code.pyx because it changed.\n",
      "[1/1] Cythonizing code.pyx\n",
      "/home/user/mu/lib/python3.9/site-packages/Cython/Compiler/Main.py:369: FutureWarning: Cython directive 'language_level' not set, using 2 for now (Py2). This will change in a later release! File: /home/user/notebooks/cython/code.pyx\n",
      "  tree = Parsing.p_module(s, pxd, full_module_name)\n"
     ]
    }
   ],
   "source": [
    "# Create Integrate Code for Python\n",
    "\n",
    "\n",
    "# Create Integrate Code for Cython\n",
    "\n",
    "\n",
    "# Create Setup.py File to Compile Cython Code\n",
    "\n",
    "# Compile code.pyx\n",
    "!python setup.py build_ext --inplace\n",
    "\n",
    "# Create File to Compare Compiled Code With Python Code"
   ]
  },
  {
   "cell_type": "markdown",
   "id": "87dca565-8568-4b7d-8f1f-fe56fa6ed392",
   "metadata": {},
   "source": [
    "# Run Compare Code"
   ]
  },
  {
   "cell_type": "code",
   "execution_count": 18,
   "id": "ecddc694-5e77-4874-9ca3-cb4c5e41040f",
   "metadata": {
    "tags": []
   },
   "outputs": [
    {
     "name": "stdout",
     "output_type": "stream",
     "text": [
      "From Python-Only\n",
      "333.333308333337\n",
      "Took 3.297556161880493 seconds\n",
      "\n",
      "From Cython\n",
      "333.333308333337\n",
      "Took 0.6176471710205078 seconds\n"
     ]
    }
   ],
   "source": [
    "!python compare.py"
   ]
  },
  {
   "cell_type": "code",
   "execution_count": null,
   "id": "c9963483-d1e2-41de-891c-614c01a5f1ee",
   "metadata": {},
   "outputs": [],
   "source": []
  }
 ],
 "metadata": {
  "kernelspec": {
   "display_name": "Python 3 (ipykernel)",
   "language": "python",
   "name": "python3"
  },
  "language_info": {
   "codemirror_mode": {
    "name": "ipython",
    "version": 3
   },
   "file_extension": ".py",
   "mimetype": "text/x-python",
   "name": "python",
   "nbconvert_exporter": "python",
   "pygments_lexer": "ipython3",
   "version": "3.9.2"
  }
 },
 "nbformat": 4,
 "nbformat_minor": 5
}
