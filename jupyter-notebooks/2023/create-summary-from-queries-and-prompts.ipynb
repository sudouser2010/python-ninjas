{
 "cells": [
  {
   "cell_type": "markdown",
   "id": "49bff520-cbdb-4410-bb09-baca748f07f0",
   "metadata": {},
   "source": [
    "# Install Dependencies"
   ]
  },
  {
   "cell_type": "code",
   "execution_count": 6,
   "id": "aaec51ed-4381-4a06-9c9d-ea9809bfc186",
   "metadata": {
    "tags": []
   },
   "outputs": [],
   "source": [
    "# uncomment below to install\n",
    "# !pip torch transformers summarizers"
   ]
  },
  {
   "cell_type": "markdown",
   "id": "cd9ec839-4363-4c2b-92ad-26072613eeea",
   "metadata": {},
   "source": [
    "# Summarize"
   ]
  },
  {
   "cell_type": "code",
   "execution_count": 3,
   "id": "6691b6bb-9891-48f7-a514-2184e4b2544f",
   "metadata": {
    "tags": []
   },
   "outputs": [
    {
     "name": "stderr",
     "output_type": "stream",
     "text": [
      "/home/user/mu/lib/python3.9/site-packages/tqdm/auto.py:21: TqdmWarning: IProgress not found. Please update jupyter and ipywidgets. See https://ipywidgets.readthedocs.io/en/stable/user_install.html\n",
      "  from .autonotebook import tqdm as notebook_tqdm\n",
      "The tokenizer class you load from this checkpoint is not the same type as the class this function is called from. It may result in unexpected tokenization. \n",
      "The tokenizer class you load from this checkpoint is 'BartTokenizer'. \n",
      "The class this function is called from is 'PreTrainedTokenizerFast'.\n"
     ]
    },
    {
     "data": {
      "text/plain": [
       "'Atoms are so small that accurately predicting their behavior using classical physics is not possible due to quantum effects.'"
      ]
     },
     "execution_count": 3,
     "metadata": {},
     "output_type": "execute_result"
    }
   ],
   "source": [
    "from summarizers import Summarizers\n",
    "\n",
    "s = Summarizers()\n",
    "\n",
    "# from: https://en.wikipedia.org/wiki/Atom\n",
    "text_to_summarize = \"\"\"\n",
    "An atom is a particle that consists of a nucleus of protons and neutrons surrounded by a cloud of electrons. The atom is the basic particle of the chemical elements, and the chemical elements are distinguished from each other by the number of protons that are in their atoms. For example, any atom that contains 11 protons is sodium, and any atom that contains 29 protons is copper. The number of neutrons defines the isotope of the element. Atoms are extremely small, typically around 100 picometers across. A human hair is about a million carbon atoms wide. This is smaller than the shortest wavelength of visible light, which means humans cannot see atoms with conventional microscopes. Atoms are so small that accurately predicting their behavior using classical physics is not possible due to quantum effects. More than 99.94% of an atom's mass is in the nucleus. The protons have a positive electric charge, the electrons have a negative electric charge, and the neutrons have no electric charge. If the number of protons and electrons are equal, then the atom is electrically neutral. If an atom has more or fewer electrons than protons, then it has an overall negative or positive charge, respectively – such atoms are called ions. The electrons of an atom are attracted to the protons in an atomic nucleus by the electromagnetic force. The protons and neutrons in the nucleus are attracted to each other by the nuclear force. This force is usually stronger than the electromagnetic force that repels the positively charged protons from one another. Under certain circumstances, the repelling electromagnetic force becomes stronger than the nuclear force. In this case, the nucleus splits and leaves behind different elements. This is a form of nuclear decay. Atoms can attach to one or more other atoms by chemical bonds to form chemical compounds such as molecules or crystals. The ability of atoms to attach and detach is responsible for most of the physical changes observed in nature. Chemistry is the discipline that studies these changes.\n",
    "\"\"\"\n",
    "\n",
    "s(text_to_summarize)\n"
   ]
  },
  {
   "cell_type": "markdown",
   "id": "02e38a85-1041-4fe0-b641-4fac9ecbfee7",
   "metadata": {},
   "source": [
    "# Query"
   ]
  },
  {
   "cell_type": "code",
   "execution_count": 47,
   "id": "273a38f4-66e5-4298-9a19-89eb90f73a34",
   "metadata": {
    "tags": []
   },
   "outputs": [
    {
     "data": {
      "text/plain": [
       "'An atom is a particle that consists of a nucleus of protons and neutrons surrounded by a cloud of electrons.'"
      ]
     },
     "execution_count": 47,
     "metadata": {},
     "output_type": "execute_result"
    }
   ],
   "source": [
    "s(text_to_summarize, query='What is an atom?')"
   ]
  },
  {
   "cell_type": "code",
   "execution_count": 48,
   "id": "4b8aa665-1aaa-48b4-95ef-e05c37e65f19",
   "metadata": {
    "tags": []
   },
   "outputs": [
    {
     "data": {
      "text/plain": [
       "'The nuclear force. A: The repelling electromagnetic force.'"
      ]
     },
     "execution_count": 48,
     "metadata": {},
     "output_type": "execute_result"
    }
   ],
   "source": [
    "s(text_to_summarize, query='Which force is stronger electromagnetic or nuclear?')"
   ]
  },
  {
   "cell_type": "code",
   "execution_count": 49,
   "id": "043e976e-c580-4300-b399-741395c694a3",
   "metadata": {
    "tags": []
   },
   "outputs": [
    {
     "data": {
      "text/plain": [
       "'11. A: 29.'"
      ]
     },
     "execution_count": 49,
     "metadata": {},
     "output_type": "execute_result"
    }
   ],
   "source": [
    "s(text_to_summarize, query='How many protons does sodium have?')"
   ]
  },
  {
   "cell_type": "code",
   "execution_count": 50,
   "id": "59f769e6-7749-4831-94ca-ef714703562c",
   "metadata": {
    "tags": []
   },
   "outputs": [
    {
     "data": {
      "text/plain": [
       "'Atoms are extremely small, typically around 100 picometers across.'"
      ]
     },
     "execution_count": 50,
     "metadata": {},
     "output_type": "execute_result"
    }
   ],
   "source": [
    "s(text_to_summarize, query='How small are atoms?')"
   ]
  },
  {
   "cell_type": "code",
   "execution_count": 51,
   "id": "4015d02d-f8e0-4ad7-ad13-8c30730bd52b",
   "metadata": {
    "tags": []
   },
   "outputs": [
    {
     "data": {
      "text/plain": [
       "'Yes. A: No.'"
      ]
     },
     "execution_count": 51,
     "metadata": {},
     "output_type": "execute_result"
    }
   ],
   "source": [
    "s(text_to_summarize, query='Is as human smaller than an atom?')"
   ]
  },
  {
   "cell_type": "markdown",
   "id": "99c1b6a2-dcb9-424f-a3d4-3ec2fc44b45e",
   "metadata": {},
   "source": [
    "# Irrelevant Queries"
   ]
  },
  {
   "cell_type": "code",
   "execution_count": 52,
   "id": "c4124e1b-2c7c-46d3-bf06-28b06da8ce41",
   "metadata": {
    "tags": []
   },
   "outputs": [
    {
     "data": {
      "text/plain": [
       "'What does it mean to be alive? A: Why do we live? Â'"
      ]
     },
     "execution_count": 52,
     "metadata": {},
     "output_type": "execute_result"
    }
   ],
   "source": [
    "s(text_to_summarize, query='What is the meaning of life?')"
   ]
  },
  {
   "cell_type": "code",
   "execution_count": 53,
   "id": "616b7ea8-3024-4b60-aeb8-5730cce5d8a2",
   "metadata": {
    "tags": []
   },
   "outputs": [
    {
     "data": {
      "text/plain": [
       "'skljdhjksdhfjdsghdsghjagsnigsvjskfh.'"
      ]
     },
     "execution_count": 53,
     "metadata": {},
     "output_type": "execute_result"
    }
   ],
   "source": [
    "s(text_to_summarize, query='skljdhjksdhfjdsghdsghjagsnigsvjskfh')"
   ]
  },
  {
   "cell_type": "code",
   "execution_count": 54,
   "id": "c639d5a5-b275-427b-9ea1-eca1e6205048",
   "metadata": {
    "tags": []
   },
   "outputs": [
    {
     "data": {
      "text/plain": [
       "'Atoms are extremely small, typically around 100 picometers across. Atoms can attach to one or more other atoms by chemical bonds.'"
      ]
     },
     "execution_count": 54,
     "metadata": {},
     "output_type": "execute_result"
    }
   ],
   "source": [
    "s(text_to_summarize, query='Where is the cake?')"
   ]
  },
  {
   "cell_type": "markdown",
   "id": "8f61c579-7d95-4836-b40e-340a92b85148",
   "metadata": {},
   "source": [
    "# Prompts"
   ]
  },
  {
   "cell_type": "code",
   "execution_count": 55,
   "id": "6de0db39-28bb-428a-9998-7e9cf142404d",
   "metadata": {
    "tags": []
   },
   "outputs": [
    {
     "data": {
      "text/plain": [
       "'Atoms are made of a nucleus of protons and neutrons surrounded by a cloud of electrons.'"
      ]
     },
     "execution_count": 55,
     "metadata": {},
     "output_type": "execute_result"
    }
   ],
   "source": [
    "s(text_to_summarize, prompt='Atoms are made of')"
   ]
  },
  {
   "cell_type": "code",
   "execution_count": 56,
   "id": "30904a80-2a79-4ae8-a78c-9bcdd127a4e8",
   "metadata": {
    "tags": []
   },
   "outputs": [
    {
     "data": {
      "text/plain": [
       "'The nuclear is amazing ability of atoms to attach and detach. Atoms are extremely small, typically around 100 picometers across.'"
      ]
     },
     "execution_count": 56,
     "metadata": {},
     "output_type": "execute_result"
    }
   ],
   "source": [
    "s(text_to_summarize, prompt='The nuclear is amazing')"
   ]
  },
  {
   "cell_type": "code",
   "execution_count": 57,
   "id": "8c7a0849-0064-493e-8106-d8eabc799422",
   "metadata": {
    "tags": []
   },
   "outputs": [
    {
     "data": {
      "text/plain": [
       "'The nuclear force is amazing ability of atoms to attach and detach.'"
      ]
     },
     "execution_count": 57,
     "metadata": {},
     "output_type": "execute_result"
    }
   ],
   "source": [
    "s(text_to_summarize, prompt='The nuclear force is amazing')"
   ]
  },
  {
   "cell_type": "markdown",
   "id": "75c15212-1afa-4601-bbd2-c62f8592b102",
   "metadata": {},
   "source": [
    "# Irrelevant Prompt"
   ]
  },
  {
   "cell_type": "code",
   "execution_count": 58,
   "id": "50e67aa6-b126-47b0-8de3-0423264d4453",
   "metadata": {
    "tags": []
   },
   "outputs": [
    {
     "data": {
      "text/plain": [
       "'The meaning of life is determined by the number of protons and neutrons in an atom.'"
      ]
     },
     "execution_count": 58,
     "metadata": {},
     "output_type": "execute_result"
    }
   ],
   "source": [
    "s(text_to_summarize, prompt='The meaning of life is')"
   ]
  },
  {
   "cell_type": "code",
   "execution_count": 59,
   "id": "5963117a-eee6-4fa8-8dfb-9a77feb1fa16",
   "metadata": {
    "tags": []
   },
   "outputs": [
    {
     "data": {
      "text/plain": [
       "'Who took the cookie? Take a quiz to find out.'"
      ]
     },
     "execution_count": 59,
     "metadata": {},
     "output_type": "execute_result"
    }
   ],
   "source": [
    "s(text_to_summarize, prompt='Who took the cookie?')"
   ]
  },
  {
   "cell_type": "code",
   "execution_count": 60,
   "id": "707ad32d-25d8-469a-b242-4e2daf2d4b90",
   "metadata": {
    "tags": []
   },
   "outputs": [
    {
     "data": {
      "text/plain": [
       "'Joe Biden is the most famous person to have ever lived. Atoms are extremely small, typically 100 picometers across.'"
      ]
     },
     "execution_count": 60,
     "metadata": {},
     "output_type": "execute_result"
    }
   ],
   "source": [
    "s(text_to_summarize, prompt='Joe Biden')"
   ]
  },
  {
   "cell_type": "code",
   "execution_count": 61,
   "id": "55b60daa-8171-4a8f-b693-29c6acf41275",
   "metadata": {
    "tags": []
   },
   "outputs": [
    {
     "data": {
      "text/plain": [
       "'Donald Trump is the most powerful person in the world. He is the leader of the Republican Party.'"
      ]
     },
     "execution_count": 61,
     "metadata": {},
     "output_type": "execute_result"
    }
   ],
   "source": [
    "s(text_to_summarize, prompt='Donald Trump')"
   ]
  },
  {
   "cell_type": "code",
   "execution_count": 62,
   "id": "eb442398-47ee-400f-8a53-42a9304cd1b8",
   "metadata": {
    "tags": []
   },
   "outputs": [
    {
     "data": {
      "text/plain": [
       "'Ron Desantis is an American theoretical physicist and author of The Structure of atoms. Atoms are extremely small, typically around 100 picometers across.'"
      ]
     },
     "execution_count": 62,
     "metadata": {},
     "output_type": "execute_result"
    }
   ],
   "source": [
    "s(text_to_summarize, prompt='Ron Desantis')"
   ]
  },
  {
   "cell_type": "code",
   "execution_count": null,
   "id": "97d798d8-5c8f-444b-b22a-c8a2629e3e8a",
   "metadata": {},
   "outputs": [],
   "source": []
  }
 ],
 "metadata": {
  "kernelspec": {
   "display_name": "Python 3 (ipykernel)",
   "language": "python",
   "name": "python3"
  },
  "language_info": {
   "codemirror_mode": {
    "name": "ipython",
    "version": 3
   },
   "file_extension": ".py",
   "mimetype": "text/x-python",
   "name": "python",
   "nbconvert_exporter": "python",
   "pygments_lexer": "ipython3",
   "version": "3.9.2"
  }
 },
 "nbformat": 4,
 "nbformat_minor": 5
}
