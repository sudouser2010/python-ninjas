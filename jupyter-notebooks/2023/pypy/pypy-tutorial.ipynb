{
 "cells": [
  {
   "cell_type": "markdown",
   "id": "b9252709-4862-4f72-a548-1c06eca693ca",
   "metadata": {},
   "source": [
    "# Install PyPy"
   ]
  },
  {
   "cell_type": "code",
   "execution_count": 14,
   "id": "65071f75-f791-4a0b-ab0a-2a0aa9af1e86",
   "metadata": {
    "tags": []
   },
   "outputs": [
    {
     "name": "stdout",
     "output_type": "stream",
     "text": [
      "  % Total    % Received % Xferd  Average Speed   Time    Time     Time  Current\n",
      "                                 Dload  Upload   Total   Spent    Left  Speed\n",
      "100 30.4M  100 30.4M    0     0  1835k      0  0:00:16  0:00:16 --:--:-- 3379k\n",
      "Looking in links: /tmp/tmp2u7a_n1w\n",
      "Requirement already satisfied: setuptools in ./pypy/lib/pypy3.9/site-packages (58.1.0)\n",
      "Requirement already satisfied: pip in ./pypy/lib/pypy3.9/site-packages (22.0.4)\n"
     ]
    }
   ],
   "source": [
    "# download pypy\n",
    "! curl  https://downloads.python.org/pypy/pypy3.9-v7.3.11-linux64.tar.bz2  --output pypy.tar.bz2\n",
    "\n",
    "# unzip\n",
    "! tar -xf pypy.tar.bz2\n",
    "\n",
    "# clean up\n",
    "! rm *.tar.bz2\n",
    "\n",
    "# rename folder\n",
    "! mv pypy3.9-v7.3.11-linux64 pypy\n",
    "\n",
    "# install pip into pypy\n",
    "! ./pypy/bin/pypy -m ensurepip"
   ]
  },
  {
   "cell_type": "markdown",
   "id": "4f2a5940-e0ca-47eb-9255-c508ea2c61fe",
   "metadata": {},
   "source": [
    "# Compare Pypy to NonPypy"
   ]
  },
  {
   "cell_type": "code",
   "execution_count": null,
   "id": "86a2713a-eddb-47ab-ae01-869a1ab3b1e7",
   "metadata": {},
   "outputs": [],
   "source": [
    "# create file with contents\n",
    "# import timeit\n",
    "# o=timeit.timeit('\"-\".join(str(n) for n in range(100))', number=100000); \n",
    "# print(o)"
   ]
  },
  {
   "cell_type": "code",
   "execution_count": 50,
   "id": "f96a7c5d-bf4e-4357-8155-aa28d18edb78",
   "metadata": {
    "tags": []
   },
   "outputs": [
    {
     "name": "stdout",
     "output_type": "stream",
     "text": [
      "1.1690301520065987\n"
     ]
    }
   ],
   "source": [
    "# run with nonpypy instance of Python\n",
    "! python compare.py"
   ]
  },
  {
   "cell_type": "code",
   "execution_count": 55,
   "id": "e5a1b630-eae0-4329-898e-e666af3e91c6",
   "metadata": {
    "tags": []
   },
   "outputs": [
    {
     "name": "stdout",
     "output_type": "stream",
     "text": [
      "0.21955048700328916\n"
     ]
    }
   ],
   "source": [
    "# run with pypy instance of python\n",
    "! ./pypy/bin/pypy compare.py"
   ]
  }
 ],
 "metadata": {
  "kernelspec": {
   "display_name": "Python 3 (ipykernel)",
   "language": "python",
   "name": "python3"
  },
  "language_info": {
   "codemirror_mode": {
    "name": "ipython",
    "version": 3
   },
   "file_extension": ".py",
   "mimetype": "text/x-python",
   "name": "python",
   "nbconvert_exporter": "python",
   "pygments_lexer": "ipython3",
   "version": "3.9.2"
  }
 },
 "nbformat": 4,
 "nbformat_minor": 5
}
