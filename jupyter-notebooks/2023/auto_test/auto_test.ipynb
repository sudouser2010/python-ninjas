{
 "cells": [
  {
   "cell_type": "markdown",
   "id": "3b0da071-11ee-4f82-9866-cf7c4f6e999e",
   "metadata": {},
   "source": [
    "# Install Dependencies"
   ]
  },
  {
   "cell_type": "code",
   "execution_count": 28,
   "id": "8f8910f9-f759-4667-b0c6-740237138e15",
   "metadata": {
    "tags": []
   },
   "outputs": [
    {
     "name": "stdout",
     "output_type": "stream",
     "text": [
      "Requirement already satisfied: pynguin in /home/user/miniconda3/envs/py310/lib/python3.10/site-packages (0.31.0)\n",
      "Requirement already satisfied: Pygments<3.0.0,>=2.14.0 in /home/user/miniconda3/envs/py310/lib/python3.10/site-packages (from pynguin) (2.15.1)\n",
      "Requirement already satisfied: Jinja2<4.0.0,>=3.1.2 in /home/user/miniconda3/envs/py310/lib/python3.10/site-packages (from pynguin) (3.1.2)\n",
      "Requirement already satisfied: astroid<3.0.0,>=2.13.2 in /home/user/miniconda3/envs/py310/lib/python3.10/site-packages (from pynguin) (2.15.3)\n",
      "Requirement already satisfied: rich<14.0.0,>=13.0.1 in /home/user/miniconda3/envs/py310/lib/python3.10/site-packages (from pynguin) (13.3.4)\n",
      "Requirement already satisfied: simple-parsing<0.0.22,>=0.0.21.post1 in /home/user/miniconda3/envs/py310/lib/python3.10/site-packages (from pynguin) (0.0.21.post1)\n",
      "Requirement already satisfied: black<23.0.0,>=22.12.0 in /home/user/miniconda3/envs/py310/lib/python3.10/site-packages (from pynguin) (22.12.0)\n",
      "Requirement already satisfied: asciitree<0.4.0,>=0.3.3 in /home/user/miniconda3/envs/py310/lib/python3.10/site-packages (from pynguin) (0.3.3)\n",
      "Requirement already satisfied: typing_inspect<0.9.0,>=0.8.0 in /home/user/miniconda3/envs/py310/lib/python3.10/site-packages (from pynguin) (0.8.0)\n",
      "Requirement already satisfied: jellyfish<0.10.0,>=0.9.0 in /home/user/miniconda3/envs/py310/lib/python3.10/site-packages (from pynguin) (0.9.0)\n",
      "Requirement already satisfied: libcst<0.5.0,>=0.4.9 in /home/user/miniconda3/envs/py310/lib/python3.10/site-packages (from pynguin) (0.4.9)\n",
      "Requirement already satisfied: requests<3.0.0,>=2.28.2 in /home/user/miniconda3/envs/py310/lib/python3.10/site-packages (from pynguin) (2.28.2)\n",
      "Requirement already satisfied: bytecode==0.13 in /home/user/miniconda3/envs/py310/lib/python3.10/site-packages (from pynguin) (0.13.0)\n",
      "Requirement already satisfied: pytest<8.0.0,>=7.2.0 in /home/user/miniconda3/envs/py310/lib/python3.10/site-packages (from pynguin) (7.3.1)\n",
      "Requirement already satisfied: networkx<4.0,>=3.0 in /home/user/miniconda3/envs/py310/lib/python3.10/site-packages (from pynguin) (3.1)\n",
      "Requirement already satisfied: MutPy-Pynguin<0.8.0,>=0.7.1 in /home/user/miniconda3/envs/py310/lib/python3.10/site-packages (from pynguin) (0.7.1)\n",
      "Requirement already satisfied: typing-extensions>=4.0.0 in /home/user/miniconda3/envs/py310/lib/python3.10/site-packages (from astroid<3.0.0,>=2.13.2->pynguin) (4.5.0)\n",
      "Requirement already satisfied: lazy-object-proxy>=1.4.0 in /home/user/miniconda3/envs/py310/lib/python3.10/site-packages (from astroid<3.0.0,>=2.13.2->pynguin) (1.9.0)\n",
      "Requirement already satisfied: wrapt<2,>=1.11 in /home/user/miniconda3/envs/py310/lib/python3.10/site-packages (from astroid<3.0.0,>=2.13.2->pynguin) (1.15.0)\n",
      "Requirement already satisfied: mypy-extensions>=0.4.3 in /home/user/miniconda3/envs/py310/lib/python3.10/site-packages (from black<23.0.0,>=22.12.0->pynguin) (1.0.0)\n",
      "Requirement already satisfied: click>=8.0.0 in /home/user/miniconda3/envs/py310/lib/python3.10/site-packages (from black<23.0.0,>=22.12.0->pynguin) (8.1.3)\n",
      "Requirement already satisfied: pathspec>=0.9.0 in /home/user/miniconda3/envs/py310/lib/python3.10/site-packages (from black<23.0.0,>=22.12.0->pynguin) (0.11.1)\n",
      "Requirement already satisfied: tomli>=1.1.0 in /home/user/miniconda3/envs/py310/lib/python3.10/site-packages (from black<23.0.0,>=22.12.0->pynguin) (2.0.1)\n",
      "Requirement already satisfied: platformdirs>=2 in /home/user/miniconda3/envs/py310/lib/python3.10/site-packages (from black<23.0.0,>=22.12.0->pynguin) (3.2.0)\n",
      "Requirement already satisfied: MarkupSafe>=2.0 in /home/user/miniconda3/envs/py310/lib/python3.10/site-packages (from Jinja2<4.0.0,>=3.1.2->pynguin) (2.1.2)\n",
      "Requirement already satisfied: pyyaml>=5.2 in /home/user/miniconda3/envs/py310/lib/python3.10/site-packages (from libcst<0.5.0,>=0.4.9->pynguin) (6.0)\n",
      "Requirement already satisfied: termcolor>=1.0.0 in /home/user/miniconda3/envs/py310/lib/python3.10/site-packages (from MutPy-Pynguin<0.8.0,>=0.7.1->pynguin) (2.2.0)\n",
      "Requirement already satisfied: astmonkey>=0.3.6 in /home/user/miniconda3/envs/py310/lib/python3.10/site-packages (from MutPy-Pynguin<0.8.0,>=0.7.1->pynguin) (0.3.6)\n",
      "Requirement already satisfied: packaging in /home/user/miniconda3/envs/py310/lib/python3.10/site-packages (from pytest<8.0.0,>=7.2.0->pynguin) (23.1)\n",
      "Requirement already satisfied: exceptiongroup>=1.0.0rc8 in /home/user/miniconda3/envs/py310/lib/python3.10/site-packages (from pytest<8.0.0,>=7.2.0->pynguin) (1.1.1)\n",
      "Requirement already satisfied: pluggy<2.0,>=0.12 in /home/user/miniconda3/envs/py310/lib/python3.10/site-packages (from pytest<8.0.0,>=7.2.0->pynguin) (1.0.0)\n",
      "Requirement already satisfied: iniconfig in /home/user/miniconda3/envs/py310/lib/python3.10/site-packages (from pytest<8.0.0,>=7.2.0->pynguin) (2.0.0)\n",
      "Requirement already satisfied: urllib3<1.27,>=1.21.1 in /home/user/miniconda3/envs/py310/lib/python3.10/site-packages (from requests<3.0.0,>=2.28.2->pynguin) (1.26.15)\n",
      "Requirement already satisfied: certifi>=2017.4.17 in /home/user/miniconda3/envs/py310/lib/python3.10/site-packages (from requests<3.0.0,>=2.28.2->pynguin) (2022.12.7)\n",
      "Requirement already satisfied: charset-normalizer<4,>=2 in /home/user/miniconda3/envs/py310/lib/python3.10/site-packages (from requests<3.0.0,>=2.28.2->pynguin) (3.1.0)\n",
      "Requirement already satisfied: idna<4,>=2.5 in /home/user/miniconda3/envs/py310/lib/python3.10/site-packages (from requests<3.0.0,>=2.28.2->pynguin) (3.4)\n",
      "Requirement already satisfied: markdown-it-py<3.0.0,>=2.2.0 in /home/user/miniconda3/envs/py310/lib/python3.10/site-packages (from rich<14.0.0,>=13.0.1->pynguin) (2.2.0)\n",
      "Requirement already satisfied: docstring-parser~=0.15 in /home/user/miniconda3/envs/py310/lib/python3.10/site-packages (from simple-parsing<0.0.22,>=0.0.21.post1->pynguin) (0.15)\n",
      "Requirement already satisfied: pydot in /home/user/miniconda3/envs/py310/lib/python3.10/site-packages (from astmonkey>=0.3.6->MutPy-Pynguin<0.8.0,>=0.7.1->pynguin) (1.4.2)\n",
      "Requirement already satisfied: mdurl~=0.1 in /home/user/miniconda3/envs/py310/lib/python3.10/site-packages (from markdown-it-py<3.0.0,>=2.2.0->rich<14.0.0,>=13.0.1->pynguin) (0.1.2)\n",
      "Requirement already satisfied: pyparsing>=2.1.4 in /home/user/miniconda3/envs/py310/lib/python3.10/site-packages (from pydot->astmonkey>=0.3.6->MutPy-Pynguin<0.8.0,>=0.7.1->pynguin) (3.0.9)\n",
      "Requirement already satisfied: pytest in /home/user/miniconda3/envs/py310/lib/python3.10/site-packages (7.3.1)\n",
      "Requirement already satisfied: pytest-cov in /home/user/miniconda3/envs/py310/lib/python3.10/site-packages (4.0.0)\n",
      "Requirement already satisfied: packaging in /home/user/miniconda3/envs/py310/lib/python3.10/site-packages (from pytest) (23.1)\n",
      "Requirement already satisfied: exceptiongroup>=1.0.0rc8 in /home/user/miniconda3/envs/py310/lib/python3.10/site-packages (from pytest) (1.1.1)\n",
      "Requirement already satisfied: iniconfig in /home/user/miniconda3/envs/py310/lib/python3.10/site-packages (from pytest) (2.0.0)\n",
      "Requirement already satisfied: pluggy<2.0,>=0.12 in /home/user/miniconda3/envs/py310/lib/python3.10/site-packages (from pytest) (1.0.0)\n",
      "Requirement already satisfied: tomli>=1.0.0 in /home/user/miniconda3/envs/py310/lib/python3.10/site-packages (from pytest) (2.0.1)\n",
      "Requirement already satisfied: coverage[toml]>=5.2.1 in /home/user/miniconda3/envs/py310/lib/python3.10/site-packages (from pytest-cov) (7.2.3)\n"
     ]
    }
   ],
   "source": [
    "! pip install pynguin\n",
    "! pip install pytest pytest-cov"
   ]
  },
  {
   "cell_type": "markdown",
   "id": "f22eaae3-e85d-44e7-9e08-5009a2caa444",
   "metadata": {},
   "source": [
    "# Get Example Code "
   ]
  },
  {
   "cell_type": "code",
   "execution_count": 30,
   "id": "c048c2e2-5df8-4dda-beb9-001a77d29c7e",
   "metadata": {
    "tags": []
   },
   "outputs": [
    {
     "name": "stdout",
     "output_type": "stream",
     "text": [
      "  % Total    % Received % Xferd  Average Speed   Time    Time     Time  Current\n",
      "                                 Dload  Upload   Total   Spent    Left  Speed\n",
      "100   353  100   353    0     0   1092      0 --:--:-- --:--:-- --:--:--  1092\n"
     ]
    }
   ],
   "source": [
    "! mkdir code\n",
    "! curl https://raw.githubusercontent.com/se2p/pynguin/main/tests/fixtures/examples/triangle.py > code/triangle_code.py"
   ]
  },
  {
   "cell_type": "markdown",
   "id": "fdf5ccaa-02ef-496a-a634-0c9ad5c49a27",
   "metadata": {},
   "source": [
    "# Create Folder to House Testcase"
   ]
  },
  {
   "cell_type": "code",
   "execution_count": 32,
   "id": "2aed6de8-8c08-420d-91fa-603c553a9c8f",
   "metadata": {
    "tags": []
   },
   "outputs": [],
   "source": [
    "! mkdir tests"
   ]
  },
  {
   "cell_type": "markdown",
   "id": "e6c5f319-e59d-4cab-b9f6-ceb6033944ea",
   "metadata": {},
   "source": [
    "# Examine Code Coverage Before"
   ]
  },
  {
   "cell_type": "code",
   "execution_count": 33,
   "id": "a6eb38c0-1ea2-42e0-aa7f-1567e90ffdf3",
   "metadata": {
    "tags": []
   },
   "outputs": [
    {
     "name": "stdout",
     "output_type": "stream",
     "text": [
      "\u001b[1m============================= test session starts ==============================\u001b[0m\n",
      "platform linux -- Python 3.10.10, pytest-7.3.1, pluggy-1.0.0\n",
      "rootdir: /home/user/notebooks/auto_test\n",
      "plugins: anyio-3.6.2, cov-4.0.0\n",
      "collected 0 items                                                              \u001b[0m\n",
      "/home/user/miniconda3/envs/py310/lib/python3.10/site-packages/coverage/control.py:858: CoverageWarning: No data was collected. (no-data-collected)\n",
      "  self._warn(\"No data was collected.\", slug=\"no-data-collected\")\n",
      "\n",
      "\n",
      "---------- coverage: platform linux, python 3.10.10-final-0 ----------\n",
      "Name                    Stmts   Miss  Cover   Missing\n",
      "-----------------------------------------------------\n",
      "code/triangle_code.py       6      6     0%   9-15\n",
      "-----------------------------------------------------\n",
      "TOTAL                       6      6     0%\n",
      "\n",
      "\u001b[33m============================ \u001b[33mno tests ran\u001b[0m\u001b[33m in 0.02s\u001b[0m\u001b[33m =============================\u001b[0m\n"
     ]
    }
   ],
   "source": [
    "!export PYTHONPATH=./code; pytest --cov-report term-missing --cov=code/ tests/"
   ]
  },
  {
   "cell_type": "markdown",
   "id": "2fa30a34-e943-46b1-b6f9-b2427c6e3303",
   "metadata": {},
   "source": [
    "# Generate Testcase Automatically"
   ]
  },
  {
   "cell_type": "code",
   "execution_count": 36,
   "id": "aba64608-3e73-469a-86ee-417f55e47c0f",
   "metadata": {
    "tags": []
   },
   "outputs": [
    {
     "name": "stdout",
     "output_type": "stream",
     "text": [
      "\u001b[2K\u001b[32m⠼\u001b[0m Running Pynguin...\n",
      "\u001b[1A\u001b[2K"
     ]
    }
   ],
   "source": [
    "!export PYNGUIN_DANGER_AWARE=1; \\\n",
    "pynguin \\\n",
    "  --project-path code \\\n",
    "  --output-path tests \\\n",
    "  --module-name triangle_code"
   ]
  },
  {
   "cell_type": "markdown",
   "id": "30e27af4-8272-4775-a3f8-1ed4368e20bc",
   "metadata": {},
   "source": [
    "# Examine Code Coverage After"
   ]
  },
  {
   "cell_type": "code",
   "execution_count": 37,
   "id": "2e183aa1-777e-4e84-9b39-fffb82ee9e74",
   "metadata": {
    "tags": []
   },
   "outputs": [
    {
     "name": "stdout",
     "output_type": "stream",
     "text": [
      "\u001b[1m============================= test session starts ==============================\u001b[0m\n",
      "platform linux -- Python 3.10.10, pytest-7.3.1, pluggy-1.0.0\n",
      "rootdir: /home/user/notebooks/auto_test\n",
      "plugins: anyio-3.6.2, cov-4.0.0\n",
      "collected 5 items                                                              \u001b[0m\n",
      "\n",
      "tests/test_triangle_code.py \u001b[32m.\u001b[0m\u001b[32m.\u001b[0m\u001b[32m.\u001b[0m\u001b[32m.\u001b[0m\u001b[32m.\u001b[0m\u001b[32m                                        [100%]\u001b[0m\n",
      "\n",
      "---------- coverage: platform linux, python 3.10.10-final-0 ----------\n",
      "Name                    Stmts   Miss  Cover   Missing\n",
      "-----------------------------------------------------\n",
      "code/triangle_code.py       6      0   100%\n",
      "-----------------------------------------------------\n",
      "TOTAL                       6      0   100%\n",
      "\n",
      "\n",
      "\u001b[32m============================== \u001b[32m\u001b[1m5 passed\u001b[0m\u001b[32m in 0.03s\u001b[0m\u001b[32m ===============================\u001b[0m\n"
     ]
    }
   ],
   "source": [
    "!export PYTHONPATH=./code; pytest --cov-report term-missing --cov=code/ tests/\n",
    "\n",
    "# We should expect code coverage to be 100%"
   ]
  }
 ],
 "metadata": {
  "kernelspec": {
   "display_name": "Python 3 (ipykernel)",
   "language": "python",
   "name": "python3"
  },
  "language_info": {
   "codemirror_mode": {
    "name": "ipython",
    "version": 3
   },
   "file_extension": ".py",
   "mimetype": "text/x-python",
   "name": "python",
   "nbconvert_exporter": "python",
   "pygments_lexer": "ipython3",
   "version": "3.10.10"
  }
 },
 "nbformat": 4,
 "nbformat_minor": 5
}
