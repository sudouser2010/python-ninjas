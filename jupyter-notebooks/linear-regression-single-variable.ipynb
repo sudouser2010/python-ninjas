{
 "cells": [
  {
   "cell_type": "markdown",
   "id": "9a42c2b3-bede-474d-93b3-8f720d5e8590",
   "metadata": {},
   "source": [
    "# Load Libraries"
   ]
  },
  {
   "cell_type": "code",
   "execution_count": 9,
   "id": "cf47968f-8ff4-4eb2-af53-87c0294dd745",
   "metadata": {
    "tags": []
   },
   "outputs": [],
   "source": [
    "import numpy as np\n",
    "import matplotlib.pyplot as plt\n",
    "from sklearn.linear_model import LinearRegression"
   ]
  },
  {
   "cell_type": "markdown",
   "id": "44284a43-fdba-4ab1-ad0f-58239fef79d0",
   "metadata": {},
   "source": [
    "# Define Dataset"
   ]
  },
  {
   "cell_type": "code",
   "execution_count": 10,
   "id": "b6fe4fe4-16de-4aba-b94e-61e51074d58d",
   "metadata": {
    "tags": []
   },
   "outputs": [],
   "source": [
    "x = np.array([5, 15, 25, 35, 45, 55])\n",
    "y = np.array([5, 20, 14, 32, 22, 38])"
   ]
  },
  {
   "cell_type": "markdown",
   "id": "7c93e1be-b430-4798-8683-7d5fb679f209",
   "metadata": {},
   "source": [
    "# Reshape `x` var\n",
    "#### This is needed b/c Scikit Learn expects `x` to be a list of lists"
   ]
  },
  {
   "cell_type": "code",
   "execution_count": 11,
   "id": "625d054c-33a3-4873-91dd-cf3440091689",
   "metadata": {
    "tags": []
   },
   "outputs": [],
   "source": [
    "x = x.reshape((-1, 1))"
   ]
  },
  {
   "cell_type": "markdown",
   "id": "f14205ce-62a0-4782-8a50-392793224902",
   "metadata": {},
   "source": [
    "# Create Model From Dataset"
   ]
  },
  {
   "cell_type": "code",
   "execution_count": 12,
   "id": "a4f6cd85-8c8d-42c1-a8ff-052831fb297c",
   "metadata": {
    "tags": []
   },
   "outputs": [],
   "source": [
    "model = LinearRegression().fit(x,y)"
   ]
  },
  {
   "cell_type": "markdown",
   "id": "6524d8dd-d280-44a2-8217-cd90e25f3ad0",
   "metadata": {},
   "source": [
    "# Let's Look At Linear Constants"
   ]
  },
  {
   "cell_type": "code",
   "execution_count": 13,
   "id": "9c7ba8d7-5086-427e-8ca7-d7d578bceff3",
   "metadata": {
    "tags": []
   },
   "outputs": [
    {
     "name": "stdout",
     "output_type": "stream",
     "text": [
      "m: [0.54]\n",
      "b: 5.633333333333329\n"
     ]
    }
   ],
   "source": [
    "print(f'm: {model.coef_}')\n",
    "print(f'b: {model.intercept_}')"
   ]
  },
  {
   "cell_type": "markdown",
   "id": "02e514b8-f95d-46a9-ba91-5d34ad727ce4",
   "metadata": {},
   "source": [
    "# Let's Look At The Coefficient of determination, R^2.\n",
    "#### the closer R^2 is to 1, the better fit the model is."
   ]
  },
  {
   "cell_type": "code",
   "execution_count": 14,
   "id": "2c1ec8e0-6e5c-4554-8e73-08e1087e8b3a",
   "metadata": {
    "tags": []
   },
   "outputs": [
    {
     "name": "stdout",
     "output_type": "stream",
     "text": [
      "R^2: 0.7158756137479542\n"
     ]
    }
   ],
   "source": [
    "r2 = model.score(x, y)\n",
    "print(f'R^2: {r2}')"
   ]
  },
  {
   "cell_type": "markdown",
   "id": "00503584-9efa-44a9-9334-d2ff5240fcc7",
   "metadata": {},
   "source": [
    "# Create New `x`'s\n",
    "#### We'll use this to represent predicted values"
   ]
  },
  {
   "cell_type": "code",
   "execution_count": 17,
   "id": "32d44afe-eb01-4ae0-9c5b-f6f36780eab9",
   "metadata": {
    "tags": []
   },
   "outputs": [],
   "source": [
    "x_new = np.linspace(0, 80, 2)"
   ]
  },
  {
   "cell_type": "markdown",
   "id": "b22df677-9ffb-42c8-a1c7-3ec36ecc6d0a",
   "metadata": {},
   "source": [
    "# Reshape New `x`'s"
   ]
  },
  {
   "cell_type": "code",
   "execution_count": 22,
   "id": "9a98301b-fbf7-49a3-98c4-e93883c2bed6",
   "metadata": {
    "tags": []
   },
   "outputs": [],
   "source": [
    "x_new = x_new.reshape((-1, 1))"
   ]
  },
  {
   "cell_type": "markdown",
   "id": "f1ae3ca1-f94b-4bdf-81d5-e09d16cf0f3f",
   "metadata": {
    "tags": []
   },
   "source": [
    "# Generate Predicted `y`'s From New `x`'s"
   ]
  },
  {
   "cell_type": "code",
   "execution_count": 23,
   "id": "f295c402-29af-4998-a33d-96ebc3a36e26",
   "metadata": {
    "tags": []
   },
   "outputs": [],
   "source": [
    "y_pred = model.predict(x_new)"
   ]
  },
  {
   "cell_type": "markdown",
   "id": "f558dfe9-758a-4e5c-b8e6-ae6c3f48d4c9",
   "metadata": {},
   "source": [
    "# Plot Dataset With Original Values As Scatterplot"
   ]
  },
  {
   "cell_type": "code",
   "execution_count": null,
   "id": "78fea0db-d9ff-406c-ace2-259f1cdadc52",
   "metadata": {},
   "outputs": [],
   "source": [
    "plt.scatter(x, y)"
   ]
  },
  {
   "cell_type": "markdown",
   "id": "57dc7f6a-8320-4949-823b-474fea3f7040",
   "metadata": {},
   "source": [
    "# Plot Dataset With Predicted Values As Line"
   ]
  },
  {
   "cell_type": "code",
   "execution_count": 24,
   "id": "10f229ad-2d5a-4c9a-89a8-766b8b1727cb",
   "metadata": {
    "tags": []
   },
   "outputs": [
    {
     "data": {
      "image/png": "[encoded data removed]",
      "text/plain": [
       "<Figure size 640x480 with 1 Axes>"
      ]
     },
     "metadata": {},
     "output_type": "display_data"
    }
   ],
   "source": [
    "\n",
    "plt.plot(x_new, y_pred, color='red')\n",
    "plt.show()"
   ]
  },
  {
   "cell_type": "code",
   "execution_count": null,
   "id": "f5dfd188-7787-4fe8-8958-2fc9db9c2101",
   "metadata": {},
   "outputs": [],
   "source": []
  }
 ],
 "metadata": {
  "kernelspec": {
   "display_name": "Python 3 (ipykernel)",
   "language": "python",
   "name": "python3"
  },
  "language_info": {
   "codemirror_mode": {
    "name": "ipython",
    "version": 3
   },
   "file_extension": ".py",
   "mimetype": "text/x-python",
   "name": "python",
   "nbconvert_exporter": "python",
   "pygments_lexer": "ipython3",
   "version": "3.9.16"
  }
 },
 "nbformat": 4,
 "nbformat_minor": 5
}
